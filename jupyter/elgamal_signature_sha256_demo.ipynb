{
 "cells": [
  {
   "cell_type": "markdown",
   "metadata": {},
   "source": [
    "# Assinatura Digital ElGamal — Notebook Didático (com SHA-256)\n",
    "\n",
    "Este notebook demonstra todas as etapas do esquema de assinatura ElGamal usando SHA-256 como hash:\n",
    "- Geração de parâmetros\n",
    "- Geração de chaves\n",
    "- Assinatura\n",
    "- Verificação\n",
    "- Teste com mensagem adulterada"
   ]
  },
  {
   "cell_type": "code",
   "execution_count": null,
   "metadata": {},
   "outputs": [],
   "source": [
    "# Imports e funções auxiliares\n",
    "import random\n",
    "from math import gcd\n",
    "import hashlib\n",
    "\n",
    "def modinv(a, p):\n",
    "    t, newt = 0, 1\n",
    "    r, newr = p, a\n",
    "    while newr != 0:\n",
    "        quotient = r // newr\n",
    "        t, newt = newt, t - quotient * newt\n",
    "        r, newr = newr, r - quotient * newr\n",
    "    if r > 1:\n",
    "        raise ValueError(\"Inverso não existe\")\n",
    "    if t < 0:\n",
    "        t = t + p\n",
    "    return t"
   ]
  },
  {
   "cell_type": "code",
   "execution_count": null,
   "metadata": {},
   "outputs": [],
   "source": [
    "# Parâmetros públicos\n",
    "p = 467    # Primo (deve ser grande em aplicações reais)\n",
    "g = 2      # Gerador do grupo\n",
    "print(f\"Parâmetros públicos: p={p}, g={g}\")"
   ]
  },
  {
   "cell_type": "code",
   "execution_count": null,
   "metadata": {},
   "outputs": [],
   "source": [
    "# Geração das chaves\n",
    "x = random.randint(1, p-2)        # Chave privada\n",
    "y = pow(g, x, p)                  # Chave pública\n",
    "print(f\"Chave privada: x={x}\")\n",
    "print(f\"Chave pública: y={y}\")"
   ]
  },
  {
   "cell_type": "code",
   "execution_count": null,
   "metadata": {},
   "outputs": [],
   "source": [
    "# Hash usando SHA-256\n",
    "def hash_mensagem(msg):\n",
    "    h = hashlib.sha256(msg.encode('utf-8')).hexdigest()\n",
    "    # Reduz para Z_{p-1} como pede o ElGamal\n",
    "    return int(h, 16) % (p-1)"
   ]
  },
  {
   "cell_type": "code",
   "execution_count": null,
   "metadata": {},
   "outputs": [],
   "source": [
    "# Função para assinar\n",
    "def elgamal_sign(msg, p, g, x):\n",
    "    h = hash_mensagem(msg)\n",
    "    while True:\n",
    "        k = random.randint(1, p-2)\n",
    "        if gcd(k, p-1) == 1:\n",
    "            break\n",
    "    r = pow(g, k, p)\n",
    "    k_inv = modinv(k, p-1)\n",
    "    s = (k_inv * (h - x * r)) % (p-1)\n",
    "    return (r, s)"
   ]
  },
  {
   "cell_type": "code",
   "execution_count": null,
   "metadata": {},
   "outputs": [],
   "source": [
    "# Função para verificar\n",
    "def elgamal_verify(msg, r, s, p, g, y):\n",
    "    if not (0 < r < p):\n",
    "        return False\n",
    "    h = hash_mensagem(msg)\n",
    "    v1 = (pow(y, r, p) * pow(r, s, p)) % p\n",
    "    v2 = pow(g, h, p)\n",
    "    return v1 == v2"
   ]
  },
  {
   "cell_type": "code",
   "execution_count": null,
   "metadata": {},
   "outputs": [],
   "source": [
    "# Exemplo de assinatura\n",
    "mensagem = \"Teste de ElGamal\"\n",
    "assinatura = elgamal_sign(mensagem, p, g, x)\n",
    "print(f\"Assinatura: r={assinatura[0]}, s={assinatura[1]}\")"
   ]
  },
  {
   "cell_type": "code",
   "execution_count": null,
   "metadata": {},
   "outputs": [],
   "source": [
    "# Verificação\n",
    "verif = elgamal_verify(mensagem, assinatura[0], assinatura[1], p, g, y)\n",
    "print(\"Assinatura válida?\", verif)"
   ]
  },
  {
   "cell_type": "code",
   "execution_count": null,
   "metadata": {},
   "outputs": [],
   "source": [
    "# Teste com mensagem adulterada\n",
    "mensagem_falsa = \"Teste de ElGamal!\"\n",
    "verif2 = elgamal_verify(mensagem_falsa, assinatura[0], assinatura[1], p, g, y)\n",
    "print(\"Assinatura válida para mensagem alterada?\", verif2)"
   ]
  }
 ],
 "metadata": {
  "language_info": {
   "name": "python"
  }
 },
 "nbformat": 4,
 "nbformat_minor": 2
}
