{
 "cells": [
  {
   "cell_type": "markdown",
   "metadata": {},
   "source": [
    "# Assinatura Digital RSA — Notebook Didático (com SHA-256)\n",
    "\n",
    "Este notebook demonstra todas as etapas do esquema de assinatura RSA com SHA-256:\n",
    "- Geração de parâmetros\n",
    "- Geração de chaves\n",
    "- Assinatura\n",
    "- Verificação\n",
    "- Teste com mensagem adulterada"
   ]
  },
  {
   "cell_type": "code",
   "execution_count": null,
   "metadata": {},
   "outputs": [],
   "source": [
    "# Etapa 1: Escolher dois primos\n",
    "import random\n",
    "from math import gcd\n",
    "import hashlib\n",
    "from Crypto.Util.number import getPrime, inverse\n",
    "\n",
    "## Primos Grandes\n",
    "# p1 = 54654656477\n",
    "# q1 = 34654655543\n",
    "# p2 = 34654656007\n",
    "# q2 = 123412353121\n",
    "# p3 = 123412353199\n",
    "# q3 = 213462437\n",
    "# n1 = p1 * q1\n",
    "# n2 = p2 * q2\n",
    "# n3 = p3 * q3\n",
    "\n",
    "p = 23\n",
    "q = 17\n",
    "p = 54654656477\n",
    "q = 34654655543\n",
    "n = p * q\n",
    "\n",
    "print(\"n =\", n)"
   ]
  },
  {
   "cell_type": "code",
   "execution_count": null,
   "metadata": {},
   "outputs": [],
   "source": [
    "# Etapa 2: Calcular a função totiente de Euler φ(n)\n",
    "phi = (p - 1) * (q - 1)\n",
    "print(\"phi(n) =\", phi)"
   ]
  },
  {
   "cell_type": "code",
   "execution_count": null,
   "metadata": {},
   "outputs": [],
   "source": [
    "# Etapa 3: Escolher e tal que 1 < e < phi e gcd(e, phi) = 1\n",
    "\n",
    "def mdc(a, b):\n",
    "    while b != 0:\n",
    "        a, b = b, a % b\n",
    "    return a\n",
    "\n",
    "e = 3  # 65537\n",
    "print(\"gcd(e, phi):\", mdc(e, phi))"
   ]
  },
  {
   "cell_type": "code",
   "execution_count": null,
   "metadata": {},
   "outputs": [],
   "source": [
    "# Etapa 4: Calcular o inverso modular d de e mod phi usando o algoritmo de Euclides estendido\n",
    "\n",
    "def egcd(a, b):\n",
    "    if b == 0:\n",
    "        return (1, 0)\n",
    "    else:\n",
    "        x, y = egcd(b, a % b)\n",
    "        return (y, x - (a // b) * y)\n",
    "\n",
    "def modinv(e, phi):\n",
    "    x, _ = egcd(e, phi)\n",
    "    return x % phi\n",
    "\n",
    "d = modinv(e, phi)\n",
    "print(\"d =\", d)"
   ]
  },
  {
   "cell_type": "code",
   "execution_count": null,
   "metadata": {},
   "outputs": [],
   "source": [
    "# Hash usando SHA-256\n",
    "def hash_mensagem(msg):\n",
    "    h = hashlib.sha256(msg.encode('utf-8')).hexdigest()\n",
    "    # Converte hash para inteiro e reduz mod n\n",
    "    return int(h, 16) % n"
   ]
  },
  {
   "cell_type": "code",
   "execution_count": null,
   "metadata": {},
   "outputs": [],
   "source": [
    "# Função para assinar\n",
    "def rsa_sign(msg, d, n):\n",
    "    h = hash_mensagem(msg)\n",
    "    s = pow(h, d, n)\n",
    "    return s"
   ]
  },
  {
   "cell_type": "code",
   "execution_count": null,
   "metadata": {},
   "outputs": [],
   "source": [
    "# Função para verificar\n",
    "def rsa_verify(msg, s, e, n):\n",
    "    h = hash_mensagem(msg)\n",
    "    v = pow(s, e, n)\n",
    "    return h == v"
   ]
  },
  {
   "cell_type": "code",
   "execution_count": null,
   "metadata": {},
   "outputs": [],
   "source": [
    "# Exemplo de assinatura\n",
    "mensagem = \"Teste de RSA\"\n",
    "assinatura = rsa_sign(mensagem, d, n)\n",
    "print(f\"Assinatura: s={assinatura}\")"
   ]
  },
  {
   "cell_type": "code",
   "execution_count": null,
   "metadata": {},
   "outputs": [],
   "source": [
    "# Verificação\n",
    "verif = rsa_verify(mensagem, assinatura, e, n)\n",
    "print(\"Assinatura válida?\", verif)"
   ]
  },
  {
   "cell_type": "code",
   "execution_count": null,
   "metadata": {},
   "outputs": [],
   "source": [
    "# Teste com mensagem adulterada\n",
    "mensagem_falsa = \"Teste de RSA!\"\n",
    "verif2 = rsa_verify(mensagem_falsa, assinatura, e, n)\n",
    "print(\"Assinatura válida para mensagem alterada?\", verif2)"
   ]
  }
 ],
 "metadata": {
  "language_info": {
   "name": "python"
  }
 },
 "nbformat": 4,
 "nbformat_minor": 2
}
