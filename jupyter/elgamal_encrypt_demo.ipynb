{
 "cells": [
  {
   "cell_type": "markdown",
   "metadata": {},
   "source": [
    "# 🔐 Criptografia ElGamal - Exemplo Didático\n",
    "\n",
    "Este notebook demonstra passo a passo como funciona a criptografia ElGamal com exemplos práticos, sem uso de bibliotecas externas de alto nível."
   ]
  },
  {
   "cell_type": "code",
   "execution_count": null,
   "metadata": {},
   "outputs": [],
   "source": [
    "# Funções auxiliares\n",
    "from Crypto.Util.number import getPrime, inverse\n",
    "import random"
   ]
  },
  {
   "cell_type": "code",
   "execution_count": null,
   "metadata": {},
   "outputs": [],
   "source": [
    "# 1. Geração dos parâmetros globais\n",
    "bits = 256\n",
    "p = getPrime(bits)  # primo grande\n",
    "p = 241 # Exemplo de primo pequeno para demonstração\n",
    "g = random.randint(2, p - 2)  # gerador do grupo multiplicativo\n",
    "\n",
    "print(f\"p = {p}\\ng (gerador) = {g}\")"
   ]
  },
  {
   "cell_type": "code",
   "execution_count": null,
   "metadata": {},
   "outputs": [],
   "source": [
    "# 2. Geração das chaves do destinatário\n",
    "x = random.randint(2, p - 2)  # chave privada\n",
    "y = pow(g, x, p)       # chave pública\n",
    "print(f\"Chave privada x = {x}\\nChave pública y = {y}\")"
   ]
  },
  {
   "cell_type": "code",
   "execution_count": null,
   "metadata": {},
   "outputs": [],
   "source": [
    "# 3. Encriptação de uma mensagem m\n",
    "def message_to_int(m):\n",
    "   mb= m.encode('utf-8')\n",
    "   mi= int.from_bytes(mb,byteorder='big')\n",
    "   return mi\n",
    "m_s = \"S\"\n",
    "m = message_to_int(m_s)  # converter mensagem para inteiro\n",
    "assert 0 < m < p, \"Mensagem {m} deve ser menor que p {p}\".format(m=m, p=p)\n",
    "k = random.randint(2, p - 2)  # segredo efêmero (único por mensagem)\n",
    "c1 = pow(g, k, p)\n",
    "c2 = (m * pow(y, k, p)) % p\n",
    "print(f\"Mensagem original m = {m}\\nC1 = {c1}\\nC2 = {c2}\")"
   ]
  },
  {
   "cell_type": "code",
   "execution_count": null,
   "metadata": {},
   "outputs": [],
   "source": [
    "# 4. Decriptação\n",
    "def int_to_message(m):\n",
    "    return m.to_bytes((m.bit_length() + 7) // 8, byteorder='big').decode('utf-8')\n",
    "\n",
    "s = pow(c1, x, p)\n",
    "s_inv = inverse(s, p)\n",
    "m_rec = (c2 * s_inv) % p\n",
    "print(f\"Mensagem decriptada = {m_rec} -> {int_to_message(m_rec)}\")\n",
    "assert m == m_rec"
   ]
  },
  {
   "cell_type": "markdown",
   "metadata": {},
   "source": [
    "✅ O ElGamal funciona corretamente quando os parâmetros são bem escolhidos.\n",
    "\n",
    "Para maior segurança, use sempre `k` aleatório e diferente para cada mensagem."
   ]
  }
 ],
 "metadata": {
  "language_info": {
   "name": "python"
  }
 },
 "nbformat": 4,
 "nbformat_minor": 2
}
