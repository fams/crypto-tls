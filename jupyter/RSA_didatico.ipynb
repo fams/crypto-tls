{
 "cells": [
  {
   "cell_type": "markdown",
   "metadata": {},
   "source": [
    "# Implementação didática do RSA com Python puro"
   ]
  },
  {
   "cell_type": "code",
   "execution_count": 1,
   "metadata": {},
   "outputs": [
    {
     "name": "stdout",
     "output_type": "stream",
     "text": [
      "n = 1894038294031428902011\n"
     ]
    }
   ],
   "source": [
    "# Etapa 1: Escolher dois primos pequenos\n",
    "# p1 = 54654656477\n",
    "# q1 = 34654655543\n",
    "# p2 = 34654656007\n",
    "# q2 = 123412353121\n",
    "# p3 = 123412353199\n",
    "# q3 = 213462437\n",
    "# n1 = p1 * q1\n",
    "# n2 = p2 * q2\n",
    "# n3 = p3 * q3\n",
    "\n",
    "p = 23\n",
    "q = 17\n",
    "p = 54654656477\n",
    "q = 34654655543\n",
    "n = p * q\n",
    "\n",
    "print(\"n =\", n)"
   ]
  },
  {
   "cell_type": "code",
   "execution_count": 2,
   "metadata": {},
   "outputs": [
    {
     "name": "stdout",
     "output_type": "stream",
     "text": [
      "phi(n) = 1894038293942119589992\n"
     ]
    }
   ],
   "source": [
    "# Etapa 2: Calcular a função totiente de Euler φ(n)\n",
    "phi = (p - 1) * (q - 1)\n",
    "print(\"phi(n) =\", phi)"
   ]
  },
  {
   "cell_type": "code",
   "execution_count": 3,
   "metadata": {},
   "outputs": [
    {
     "name": "stdout",
     "output_type": "stream",
     "text": [
      "gcd(e, phi): 1\n"
     ]
    }
   ],
   "source": [
    "# Etapa 3: Escolher e tal que 1 < e < phi e gcd(e, phi) = 1\n",
    "\n",
    "def mdc(a, b):\n",
    "    while b != 0:\n",
    "        a, b = b, a % b\n",
    "    return a\n",
    "\n",
    "e = 3  # 65537\n",
    "print(\"gcd(e, phi):\", mdc(e, phi))"
   ]
  },
  {
   "cell_type": "code",
   "execution_count": 4,
   "metadata": {},
   "outputs": [
    {
     "name": "stdout",
     "output_type": "stream",
     "text": [
      "d = 1262692195961413059995\n"
     ]
    }
   ],
   "source": [
    "# Etapa 4: Calcular o inverso modular d de e mod phi usando o algoritmo de Euclides estendido\n",
    "\n",
    "def egcd(a, b):\n",
    "    if b == 0:\n",
    "        return (1, 0)\n",
    "    else:\n",
    "        x, y = egcd(b, a % b)\n",
    "        return (y, x - (a // b) * y)\n",
    "\n",
    "def modinv(e, phi):\n",
    "    x, _ = egcd(e, phi)\n",
    "    return x % phi\n",
    "\n",
    "d = modinv(e, phi)\n",
    "print(\"d =\", d)"
   ]
  },
  {
   "cell_type": "code",
   "execution_count": 5,
   "metadata": {},
   "outputs": [
    {
     "name": "stdout",
     "output_type": "stream",
     "text": [
      "Chave pública: (3, 1894038294031428902011)\n",
      "Chave privada: (1262692195961413059995, 1894038294031428902011)\n"
     ]
    }
   ],
   "source": [
    "# Etapa 5: Gerar as chaves pública e privada\n",
    "public_key = (e, n)\n",
    "private_key = (d, n)\n",
    "print(\"Chave pública:\", public_key)\n",
    "print(\"Chave privada:\", private_key)"
   ]
  },
  {
   "cell_type": "code",
   "execution_count": 6,
   "metadata": {},
   "outputs": [
    {
     "name": "stdout",
     "output_type": "stream",
     "text": [
      "M em int: 23438595692250191\n",
      "Mensagem criptografada: 374038228698701576379\n"
     ]
    }
   ],
   "source": [
    "# Etapa 6: Cifrar uma mensagem M com a chave pública\n",
    "def message_to_int(m):\n",
    "   mb= m.encode('utf-8')\n",
    "   mi= int.from_bytes(mb,byteorder='big')\n",
    "   return mi\n",
    "M =  message_to_int(\"SEGREDO\") # Mensagem original (deve ser < n)\n",
    "assert M < n\n",
    "print(\"M em int:\", M)\n",
    "C = pow(M, e, n)\n",
    "print(\"Mensagem criptografada:\", C)"
   ]
  },
  {
   "cell_type": "code",
   "execution_count": 7,
   "metadata": {},
   "outputs": [
    {
     "name": "stdout",
     "output_type": "stream",
     "text": [
      "Mensagem decriptada: 23438595692250191 -> SEGREDO\n",
      "✅ Mensagem decifrada corretamente!\n"
     ]
    }
   ],
   "source": [
    "# Etapa 7: Decifrar com a chave privada\n",
    "def int_to_message(m):\n",
    "    return m.to_bytes((m.bit_length() + 7) // 8, byteorder='big').decode('utf-8')\n",
    "decrypted = pow(C, d, n)\n",
    "print(\"Mensagem decriptada:\", decrypted, \"->\",int_to_message(decrypted))\n",
    "# Verificação final\n",
    "assert M == decrypted\n",
    "print(\"✅ Mensagem decifrada corretamente!\")"
   ]
  },
  {
   "cell_type": "code",
   "execution_count": 14,
   "metadata": {},
   "outputs": [
    {
     "ename": "KeyboardInterrupt",
     "evalue": "",
     "output_type": "error",
     "traceback": [
      "\u001b[31m---------------------------------------------------------------------------\u001b[39m",
      "\u001b[31mKeyboardInterrupt\u001b[39m                         Traceback (most recent call last)",
      "\u001b[36mCell\u001b[39m\u001b[36m \u001b[39m\u001b[32mIn[14]\u001b[39m\u001b[32m, line 9\u001b[39m\n\u001b[32m      6\u001b[39m             \u001b[38;5;28;01mreturn\u001b[39;00m i, n // i\n\u001b[32m      7\u001b[39m     \u001b[38;5;28;01mreturn\u001b[39;00m \u001b[38;5;28;01mNone\u001b[39;00m, \u001b[38;5;28;01mNone\u001b[39;00m\n\u001b[32m----> \u001b[39m\u001b[32m9\u001b[39m fp, fq = \u001b[43mfatorar_n\u001b[49m\u001b[43m(\u001b[49m\u001b[43mn\u001b[49m\u001b[43m)\u001b[49m\n\u001b[32m     10\u001b[39m \u001b[38;5;28mprint\u001b[39m(\u001b[33m\"\u001b[39m\u001b[33mFatores encontrados:\u001b[39m\u001b[33m\"\u001b[39m, fp, fq)\n\u001b[32m     11\u001b[39m \u001b[38;5;28mprint\u001b[39m(\u001b[33m\"\u001b[39m\u001b[33mn=\u001b[39m\u001b[33m\"\u001b[39m,fp*fq)\n",
      "\u001b[36mCell\u001b[39m\u001b[36m \u001b[39m\u001b[32mIn[14]\u001b[39m\u001b[32m, line 5\u001b[39m, in \u001b[36mfatorar_n\u001b[39m\u001b[34m(n)\u001b[39m\n\u001b[32m      3\u001b[39m \u001b[38;5;28;01mdef\u001b[39;00m\u001b[38;5;250m \u001b[39m\u001b[34mfatorar_n\u001b[39m(n):\n\u001b[32m      4\u001b[39m     \u001b[38;5;28;01mfor\u001b[39;00m i \u001b[38;5;129;01min\u001b[39;00m \u001b[38;5;28mrange\u001b[39m(\u001b[32m2\u001b[39m, n):\n\u001b[32m----> \u001b[39m\u001b[32m5\u001b[39m         \u001b[38;5;28;01mif\u001b[39;00m n % i == \u001b[32m0\u001b[39m:\n\u001b[32m      6\u001b[39m             \u001b[38;5;28;01mreturn\u001b[39;00m i, n // i\n\u001b[32m      7\u001b[39m     \u001b[38;5;28;01mreturn\u001b[39;00m \u001b[38;5;28;01mNone\u001b[39;00m, \u001b[38;5;28;01mNone\u001b[39;00m\n",
      "\u001b[31mKeyboardInterrupt\u001b[39m: "
     ]
    }
   ],
   "source": [
    "# 🔓 Tentativa de quebra 1: fatorar n para encontrar p e q\n",
    "\n",
    "def fatorar_n(n):\n",
    "    for i in range(2, n):\n",
    "        if n % i == 0:\n",
    "            return i, n // i\n",
    "    return None, None\n",
    "\n",
    "fp, fq = fatorar_n(n)\n",
    "print(\"Fatores encontrados:\", fp, fq)\n",
    "print(\"n=\",fp*fq)"
   ]
  },
  {
   "cell_type": "code",
   "execution_count": 36,
   "metadata": {},
   "outputs": [
    {
     "ename": "KeyboardInterrupt",
     "evalue": "",
     "output_type": "error",
     "traceback": [
      "\u001b[31m---------------------------------------------------------------------------\u001b[39m",
      "\u001b[31mKeyboardInterrupt\u001b[39m                         Traceback (most recent call last)",
      "\u001b[36mCell\u001b[39m\u001b[36m \u001b[39m\u001b[32mIn[36]\u001b[39m\u001b[32m, line 9\u001b[39m\n\u001b[32m      6\u001b[39m             \u001b[38;5;28;01mreturn\u001b[39;00m m\n\u001b[32m      7\u001b[39m     \u001b[38;5;28;01mreturn\u001b[39;00m \u001b[38;5;28;01mNone\u001b[39;00m\n\u001b[32m----> \u001b[39m\u001b[32m9\u001b[39m brute_force_message = \u001b[43mlog_discreto\u001b[49m\u001b[43m(\u001b[49m\u001b[43mC\u001b[49m\u001b[43m,\u001b[49m\u001b[43m \u001b[49m\u001b[43me\u001b[49m\u001b[43m,\u001b[49m\u001b[43m \u001b[49m\u001b[43mn\u001b[49m\u001b[43m)\u001b[49m\n\u001b[32m     10\u001b[39m \u001b[38;5;28mprint\u001b[39m(\u001b[33m\"\u001b[39m\u001b[33mMensagem recuperada via força bruta:\u001b[39m\u001b[33m\"\u001b[39m, brute_force_message, \u001b[33m\"\u001b[39m\u001b[33m->\u001b[39m\u001b[33m\"\u001b[39m,int_to_message(brute_force_message))\n",
      "\u001b[36mCell\u001b[39m\u001b[36m \u001b[39m\u001b[32mIn[36]\u001b[39m\u001b[32m, line 5\u001b[39m, in \u001b[36mlog_discreto\u001b[39m\u001b[34m(C, e, n)\u001b[39m\n\u001b[32m      3\u001b[39m \u001b[38;5;28;01mdef\u001b[39;00m\u001b[38;5;250m \u001b[39m\u001b[34mlog_discreto\u001b[39m(C, e, n):\n\u001b[32m      4\u001b[39m     \u001b[38;5;28;01mfor\u001b[39;00m m \u001b[38;5;129;01min\u001b[39;00m \u001b[38;5;28mrange\u001b[39m(n):\n\u001b[32m----> \u001b[39m\u001b[32m5\u001b[39m         \u001b[38;5;28;01mif\u001b[39;00m \u001b[38;5;28mpow\u001b[39m(m, e, n) == C:\n\u001b[32m      6\u001b[39m             \u001b[38;5;28;01mreturn\u001b[39;00m m\n\u001b[32m      7\u001b[39m     \u001b[38;5;28;01mreturn\u001b[39;00m \u001b[38;5;28;01mNone\u001b[39;00m\n",
      "\u001b[31mKeyboardInterrupt\u001b[39m: "
     ]
    }
   ],
   "source": [
    "# 🔓 Tentativa de quebra 2: logaritmo discreto (força bruta)\n",
    "\n",
    "def log_discreto(C, e, n):\n",
    "    for m in range(n):\n",
    "        if pow(m, e, n) == C:\n",
    "            return m\n",
    "    return None\n",
    "\n",
    "brute_force_message = log_discreto(C, e, n)\n",
    "print(\"Mensagem recuperada via força bruta:\", brute_force_message, \"->\",int_to_message(brute_force_message))"
   ]
  },
  {
   "cell_type": "code",
   "execution_count": 8,
   "metadata": {},
   "outputs": [
    {
     "name": "stdout",
     "output_type": "stream",
     "text": [
      "m^e reconstruído (sem mod): 12876409001086457831994553259920550719159423717871\n",
      "Mensagem recuperada: SEGREDO\n"
     ]
    }
   ],
   "source": [
    "# 🔓 Tentativa de ataque com broadcast 3\n",
    "\n",
    "\n",
    "from sympy import integer_nthroot\n",
    "from sympy.ntheory.modular import crt\n",
    "\n",
    "# Função para raiz cúbica inteira\n",
    "def raiz_cubica_inteira(x):\n",
    "    raiz, exato = integer_nthroot(x, 3)\n",
    "    assert exato, \"Raiz cúbica não exata!\"\n",
    "    return raiz\n",
    "\n",
    "# Usando Ns distintos\n",
    "p1 = 54654656477\n",
    "q1 = 34654655543\n",
    "p2 = 34654656007\n",
    "q2 = 123412353121\n",
    "p3 = 123412353199\n",
    "q3 = 213462437\n",
    "n1 = p1 * q1\n",
    "n2 = p2 * q2\n",
    "n3 = p3 * q3\n",
    "\n",
    "# Aplicar Teorema Chinês do Resto para recuperar m^e\n",
    "c1 = pow(M, e, n1)\n",
    "c2 = pow(M, e, n2)\n",
    "c3 = pow(M, e, n3)\n",
    "modulos = [n1, n2, n3]\n",
    "restos = [c1, c2, c3]\n",
    "m_e, _ = crt(modulos, restos)\n",
    "\n",
    "print(\"m^e reconstruído (sem mod):\", m_e)\n",
    "\n",
    "# Extrair raiz cúbica inteira\n",
    "m_recover = raiz_cubica_inteira(m_e)\n",
    "mensagem_recover = m_recover.to_bytes((m_recover.bit_length() + 7) // 8, 'big')\n",
    "print(\"Mensagem recuperada:\", mensagem_recover.decode())"
   ]
  },
  {
   "cell_type": "code",
   "execution_count": null,
   "metadata": {},
   "outputs": [],
   "source": []
  },
  {
   "cell_type": "code",
   "execution_count": null,
   "metadata": {},
   "outputs": [],
   "source": []
  }
 ],
 "metadata": {
  "kernelspec": {
   "display_name": "Python 3 (ipykernel)",
   "language": "python",
   "name": "python3"
  },
  "language_info": {
   "codemirror_mode": {
    "name": "ipython",
    "version": 3
   },
   "file_extension": ".py",
   "mimetype": "text/x-python",
   "name": "python",
   "nbconvert_exporter": "python",
   "pygments_lexer": "ipython3",
   "version": "3.13.5"
  }
 },
 "nbformat": 4,
 "nbformat_minor": 4
}
