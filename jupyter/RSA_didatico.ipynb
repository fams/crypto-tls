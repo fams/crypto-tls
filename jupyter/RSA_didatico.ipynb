{
 "cells": [
  {
   "cell_type": "markdown",
   "metadata": {},
   "source": [
    "# Implementação didática do RSA com Python puro"
   ]
  },
  {
   "cell_type": "code",
   "execution_count": 1,
   "metadata": {},
   "outputs": [
    {
     "name": "stdout",
     "output_type": "stream",
     "text": [
      "n = 391\n"
     ]
    }
   ],
   "source": [
    "# Etapa 1: Escolher dois primos pequenos\n",
    "p = 23 # 54654656477\n",
    "q = 17 # 34654655543\n",
    "n = p * q\n",
    "print(\"n =\", n)"
   ]
  },
  {
   "cell_type": "code",
   "execution_count": 2,
   "metadata": {},
   "outputs": [
    {
     "name": "stdout",
     "output_type": "stream",
     "text": [
      "phi(n) = 352\n"
     ]
    }
   ],
   "source": [
    "# Etapa 2: Calcular a função totiente de Euler φ(n)\n",
    "phi = (p - 1) * (q - 1)\n",
    "print(\"phi(n) =\", phi)"
   ]
  },
  {
   "cell_type": "code",
   "execution_count": 3,
   "metadata": {},
   "outputs": [
    {
     "name": "stdout",
     "output_type": "stream",
     "text": [
      "gcd(e, phi): 1\n"
     ]
    }
   ],
   "source": [
    "# Etapa 3: Escolher e tal que 1 < e < phi e gcd(e, phi) = 1\n",
    "\n",
    "def mdc(a, b):\n",
    "    while b != 0:\n",
    "        a, b = b, a % b\n",
    "    return a\n",
    "\n",
    "e = 65537  # Tentativa\n",
    "print(\"gcd(e, phi):\", mdc(e, phi))"
   ]
  },
  {
   "cell_type": "code",
   "execution_count": 4,
   "metadata": {},
   "outputs": [
    {
     "name": "stdout",
     "output_type": "stream",
     "text": [
      "d = 65\n"
     ]
    }
   ],
   "source": [
    "# Etapa 4: Calcular o inverso modular d de e mod phi usando o algoritmo de Euclides estendido\n",
    "\n",
    "def egcd(a, b):\n",
    "    if b == 0:\n",
    "        return (1, 0)\n",
    "    else:\n",
    "        x, y = egcd(b, a % b)\n",
    "        return (y, x - (a // b) * y)\n",
    "\n",
    "def modinv(e, phi):\n",
    "    x, _ = egcd(e, phi)\n",
    "    return x % phi\n",
    "\n",
    "d = modinv(e, phi)\n",
    "print(\"d =\", d)"
   ]
  },
  {
   "cell_type": "code",
   "execution_count": 5,
   "metadata": {},
   "outputs": [
    {
     "name": "stdout",
     "output_type": "stream",
     "text": [
      "Chave pública: (65537, 391)\n",
      "Chave privada: (65, 391)\n"
     ]
    }
   ],
   "source": [
    "# Etapa 5: Gerar as chaves pública e privada\n",
    "public_key = (e, n)\n",
    "private_key = (d, n)\n",
    "print(\"Chave pública:\", public_key)\n",
    "print(\"Chave privada:\", private_key)"
   ]
  },
  {
   "cell_type": "code",
   "execution_count": 17,
   "metadata": {},
   "outputs": [
    {
     "name": "stdout",
     "output_type": "stream",
     "text": [
      "M em int: 83\n",
      "Mensagem criptografada: 304\n"
     ]
    }
   ],
   "source": [
    "# Etapa 6: Cifrar uma mensagem M com a chave pública\n",
    "def message_to_int(m):\n",
    "   mb= m.encode('utf-8')\n",
    "   mi= int.from_bytes(mb,byteorder='big')\n",
    "   return mi\n",
    "M =  message_to_int(\"S\") # Mensagem original (deve ser < n)\n",
    "assert M < n\n",
    "print(\"M em int:\", M)\n",
    "C = pow(M, e, n)\n",
    "print(\"Mensagem criptografada:\", C)"
   ]
  },
  {
   "cell_type": "code",
   "execution_count": 18,
   "metadata": {},
   "outputs": [
    {
     "name": "stdout",
     "output_type": "stream",
     "text": [
      "Mensagem decriptada: 83 -> S\n",
      "✅ Mensagem decifrada corretamente!\n"
     ]
    }
   ],
   "source": [
    "# Etapa 7: Decifrar com a chave privada\n",
    "def int_to_message(m):\n",
    "    return m.to_bytes((m.bit_length() + 7) // 8, byteorder='big').decode('utf-8')\n",
    "decrypted = pow(C, d, n)\n",
    "print(\"Mensagem decriptada:\", decrypted, \"->\",int_to_message(decrypted))\n",
    "# Verificação final\n",
    "assert M == decrypted\n",
    "print(\"✅ Mensagem decifrada corretamente!\")"
   ]
  },
  {
   "cell_type": "code",
   "execution_count": 8,
   "metadata": {},
   "outputs": [
    {
     "name": "stdout",
     "output_type": "stream",
     "text": [
      "Fatores encontrados: 17 23\n",
      "n= 391\n"
     ]
    }
   ],
   "source": [
    "# 🔓 Tentativa de quebra 1: fatorar n para encontrar p e q\n",
    "\n",
    "def fatorar_n(n):\n",
    "    for i in range(2, n):\n",
    "        if n % i == 0:\n",
    "            return i, n // i\n",
    "    return None, None\n",
    "\n",
    "fp, fq = fatorar_n(n)\n",
    "print(\"Fatores encontrados:\", fp, fq)\n",
    "print(\"n=\",fp*fq)"
   ]
  },
  {
   "cell_type": "code",
   "execution_count": 52,
   "metadata": {},
   "outputs": [
    {
     "name": "stdout",
     "output_type": "stream",
     "text": [
      "Mensagem recuperada via força bruta: 83\n"
     ]
    }
   ],
   "source": [
    "# 🔓 Tentativa de quebra 2: logaritmo discreto (força bruta)\n",
    "\n",
    "def log_discreto(C, e, n):\n",
    "    for m in range(n):\n",
    "        if pow(m, e, n) == C:\n",
    "            return m\n",
    "    return None\n",
    "\n",
    "brute_force_message = log_discreto(C, e, n)\n",
    "print(\"Mensagem recuperada via força bruta:\", brute_force_message)"
   ]
  },
  {
   "cell_type": "code",
   "execution_count": null,
   "metadata": {},
   "outputs": [],
   "source": []
  }
 ],
 "metadata": {
  "kernelspec": {
   "display_name": "Python 3 (ipykernel)",
   "language": "python",
   "name": "python3"
  },
  "language_info": {
   "codemirror_mode": {
    "name": "ipython",
    "version": 3
   },
   "file_extension": ".py",
   "mimetype": "text/x-python",
   "name": "python",
   "nbconvert_exporter": "python",
   "pygments_lexer": "ipython3",
   "version": "3.13.5"
  }
 },
 "nbformat": 4,
 "nbformat_minor": 4
}
