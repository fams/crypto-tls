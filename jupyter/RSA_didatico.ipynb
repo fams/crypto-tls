{
 "cells": [
  {
   "cell_type": "markdown",
   "metadata": {},
   "source": [
    "# Implementação didática do RSA com Python puro"
   ]
  },
  {
   "cell_type": "code",
   "execution_count": null,
   "metadata": {},
   "outputs": [],
   "source": [
    "# Etapa 1: Escolher dois primos pequenos\n",
    "# p1 = 54654656477\n",
    "# q1 = 34654655543\n",
    "# p2 = 34654656007\n",
    "# q2 = 123412353121\n",
    "# p3 = 123412353199\n",
    "# q3 = 213462437\n",
    "# n1 = p1 * q1\n",
    "# n2 = p2 * q2\n",
    "# n3 = p3 * q3\n",
    "\n",
    "p = 23\n",
    "q = 17\n",
    "p = 54654656477\n",
    "q = 34654655543\n",
    "n = p * q\n",
    "\n",
    "print(\"n =\", n)"
   ]
  },
  {
   "cell_type": "code",
   "execution_count": null,
   "metadata": {},
   "outputs": [],
   "source": [
    "# Etapa 2: Calcular a função totiente de Euler φ(n)\n",
    "phi = (p - 1) * (q - 1)\n",
    "print(\"phi(n) =\", phi)"
   ]
  },
  {
   "cell_type": "code",
   "execution_count": null,
   "metadata": {},
   "outputs": [],
   "source": [
    "# Etapa 3: Escolher e tal que 1 < e < phi e gcd(e, phi) = 1\n",
    "\n",
    "def mdc(a, b):\n",
    "    while b != 0:\n",
    "        a, b = b, a % b\n",
    "    return a\n",
    "\n",
    "e = 3  # 65537\n",
    "print(\"gcd(e, phi):\", mdc(e, phi))"
   ]
  },
  {
   "cell_type": "code",
   "execution_count": null,
   "metadata": {},
   "outputs": [],
   "source": [
    "# Etapa 4: Calcular o inverso modular d de e mod phi usando o algoritmo de Euclides estendido\n",
    "\n",
    "def egcd(a, b):\n",
    "    if b == 0:\n",
    "        return (1, 0)\n",
    "    else:\n",
    "        x, y = egcd(b, a % b)\n",
    "        return (y, x - (a // b) * y)\n",
    "\n",
    "def modinv(e, phi):\n",
    "    x, _ = egcd(e, phi)\n",
    "    return x % phi\n",
    "\n",
    "d = modinv(e, phi)\n",
    "print(\"d =\", d)"
   ]
  },
  {
   "cell_type": "code",
   "execution_count": null,
   "metadata": {},
   "outputs": [],
   "source": [
    "# Etapa 5: Gerar as chaves pública e privada\n",
    "public_key = (e, n)\n",
    "private_key = (d, n)\n",
    "print(\"Chave pública:\", public_key)\n",
    "print(\"Chave privada:\", private_key)"
   ]
  },
  {
   "cell_type": "code",
   "execution_count": null,
   "metadata": {},
   "outputs": [],
   "source": [
    "# Etapa 6: Cifrar uma mensagem M com a chave pública\n",
    "def message_to_int(m):\n",
    "   mb= m.encode('utf-8')\n",
    "   mi= int.from_bytes(mb,byteorder='big')\n",
    "   return mi\n",
    "M =  message_to_int(\"SEGREDO\") # Mensagem original (deve ser < n)\n",
    "assert M < n\n",
    "print(\"M em int:\", M)\n",
    "C = pow(M, e, n)\n",
    "print(\"Mensagem criptografada:\", C)"
   ]
  },
  {
   "cell_type": "code",
   "execution_count": null,
   "metadata": {},
   "outputs": [],
   "source": [
    "# Etapa 7: Decifrar com a chave privada\n",
    "def int_to_message(m):\n",
    "    return m.to_bytes((m.bit_length() + 7) // 8, byteorder='big').decode('utf-8')\n",
    "decrypted = pow(C, d, n)\n",
    "print(\"Mensagem decriptada:\", decrypted, \"->\",int_to_message(decrypted))\n",
    "# Verificação final\n",
    "assert M == decrypted\n",
    "print(\"✅ Mensagem decifrada corretamente!\")"
   ]
  },
  {
   "cell_type": "code",
   "execution_count": null,
   "metadata": {},
   "outputs": [],
   "source": [
    "# 🔓 Tentativa de quebra 1: fatorar n para encontrar p e q\n",
    "\n",
    "def fatorar_n(n):\n",
    "    for i in range(2, n):\n",
    "        if n % i == 0:\n",
    "            return i, n // i\n",
    "    return None, None\n",
    "\n",
    "fp, fq = fatorar_n(n)\n",
    "print(\"Fatores encontrados:\", fp, fq)\n",
    "print(\"n=\",fp*fq)"
   ]
  },
  {
   "cell_type": "code",
   "execution_count": null,
   "metadata": {},
   "outputs": [],
   "source": [
    "# 🔓 Tentativa de quebra 2: logaritmo discreto (força bruta)\n",
    "\n",
    "def log_discreto(C, e, n):\n",
    "    for m in range(n):\n",
    "        if pow(m, e, n) == C:\n",
    "            return m\n",
    "    return None\n",
    "\n",
    "brute_force_message = log_discreto(C, e, n)\n",
    "print(\"Mensagem recuperada via força bruta:\", brute_force_message, \"->\",int_to_message(brute_force_message))"
   ]
  },
  {
   "cell_type": "code",
   "execution_count": null,
   "metadata": {},
   "outputs": [],
   "source": [
    "# 🔓 Tentativa de ataque com broadcast 3\n",
    "\n",
    "\n",
    "from sympy import integer_nthroot\n",
    "from sympy.ntheory.modular import crt\n",
    "\n",
    "# Função para raiz cúbica inteira\n",
    "def raiz_cubica_inteira(x):\n",
    "    raiz, exato = integer_nthroot(x, 3)\n",
    "    assert exato, \"Raiz cúbica não exata!\"\n",
    "    return raiz\n",
    "\n",
    "# Usando Ns distintos\n",
    "p1 = 54654656477\n",
    "q1 = 34654655543\n",
    "p2 = 34654656007\n",
    "q2 = 123412353121\n",
    "p3 = 123412353199\n",
    "q3 = 213462437\n",
    "n1 = p1 * q1\n",
    "n2 = p2 * q2\n",
    "n3 = p3 * q3\n",
    "\n",
    "# Aplicar Teorema Chinês do Resto para recuperar m^e\n",
    "c1 = pow(M, e, n1)\n",
    "c2 = pow(M, e, n2)\n",
    "c3 = pow(M, e, n3)\n",
    "modulos = [n1, n2, n3]\n",
    "restos = [c1, c2, c3]\n",
    "m_e, _ = crt(modulos, restos)\n",
    "\n",
    "print(\"m^e reconstruído (sem mod):\", m_e)\n",
    "\n",
    "# Extrair raiz cúbica inteira\n",
    "m_recover = raiz_cubica_inteira(m_e)\n",
    "mensagem_recover = m_recover.to_bytes((m_recover.bit_length() + 7) // 8, 'big')\n",
    "print(\"Mensagem recuperada:\", mensagem_recover.decode())"
   ]
  },
  {
   "cell_type": "code",
   "execution_count": null,
   "metadata": {},
   "outputs": [],
   "source": []
  },
  {
   "cell_type": "code",
   "execution_count": null,
   "metadata": {},
   "outputs": [],
   "source": []
  }
 ],
 "metadata": {
  "language_info": {
   "name": "python"
  }
 },
 "nbformat": 4,
 "nbformat_minor": 4
}
