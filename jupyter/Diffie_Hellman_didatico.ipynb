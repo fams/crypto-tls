{
 "cells": [
  {
   "cell_type": "markdown",
   "metadata": {},
   "source": [
    "# Implementação didática do protocolo de Diffie-Hellman com Python puro"
   ]
  },
  {
   "cell_type": "code",
   "execution_count": 1,
   "metadata": {},
   "outputs": [
    {
     "name": "stdout",
     "output_type": "stream",
     "text": [
      "p = 17\n",
      "g = 5\n"
     ]
    }
   ],
   "source": [
    "# Etapa 1: Escolher um número primo p e uma base g\n",
    "p = 17 # 54654656477  # Primo pequeno para fins didáticos\n",
    "g = 5   # Raiz primitiva módulo p\n",
    "print(\"p =\", p) \n",
    "print(\"g =\", g)"
   ]
  },
  {
   "cell_type": "code",
   "execution_count": 2,
   "metadata": {},
   "outputs": [
    {
     "name": "stdout",
     "output_type": "stream",
     "text": [
      "Segredo de Alice: 6\n",
      "Segredo de Bob: 15\n"
     ]
    }
   ],
   "source": [
    "# Etapa 2: Cada usuário escolhe seu segredo privado\n",
    "alice_private = 6  # Segredo de Alice\n",
    "bob_private = 15   # Segredo de Bob\n",
    "# import secrets\n",
    "# alice_private = secrets.randbelow(100000000)+1\n",
    "# bob_private = secrets.randbelow(100000000)+1\n",
    "print(\"Segredo de Alice:\", alice_private)\n",
    "print(\"Segredo de Bob:\", bob_private)"
   ]
  },
  {
   "cell_type": "code",
   "execution_count": 3,
   "metadata": {},
   "outputs": [
    {
     "name": "stdout",
     "output_type": "stream",
     "text": [
      "Valor público de Alice: 2\n",
      "Valor público de Bob: 7\n"
     ]
    }
   ],
   "source": [
    "# Etapa 3: Calcular e trocar os valores públicos\n",
    "alice_public = pow(g, alice_private, p)\n",
    "bob_public = pow(g, bob_private, p)\n",
    "print(\"Valor público de Alice:\", alice_public)\n",
    "print(\"Valor público de Bob:\", bob_public)"
   ]
  },
  {
   "cell_type": "code",
   "execution_count": 4,
   "metadata": {},
   "outputs": [
    {
     "name": "stdout",
     "output_type": "stream",
     "text": [
      "Segredo compartilhado de Alice: 9\n",
      "Segredo compartilhado de Bob: 9\n"
     ]
    }
   ],
   "source": [
    "# Etapa 4: Cada um calcula o segredo compartilhado\n",
    "alice_shared = pow(bob_public, alice_private, p)\n",
    "bob_shared = pow(alice_public, bob_private, p)\n",
    "print(\"Segredo compartilhado de Alice:\", alice_shared)\n",
    "print(\"Segredo compartilhado de Bob:\", bob_shared)"
   ]
  },
  {
   "cell_type": "code",
   "execution_count": 5,
   "metadata": {},
   "outputs": [
    {
     "name": "stdout",
     "output_type": "stream",
     "text": [
      "Tentativa de descobrir o segredo de Alice por força bruta: 6\n"
     ]
    }
   ],
   "source": [
    "# Tentativa de ataque (resolver o segredo privado a partir do valor público)\n",
    "# Supõe-se que um atacante veja apenas g, p e o valor público de Alice\n",
    "\n",
    "def brute_force_secret(public_value, g, p):\n",
    "    for possible_secret in range(1, p):\n",
    "        if pow(g, possible_secret, p) == public_value:\n",
    "            return possible_secret\n",
    "    return None\n",
    "\n",
    "recovered_alice = brute_force_secret(alice_public, g, p)\n",
    "print(\"Tentativa de descobrir o segredo de Alice por força bruta:\", recovered_alice)"
   ]
  },
  {
   "cell_type": "code",
   "execution_count": 6,
   "metadata": {},
   "outputs": [
    {
     "name": "stdout",
     "output_type": "stream",
     "text": [
      "✅ Segredo compartilhado com sucesso! Valor: 9\n"
     ]
    }
   ],
   "source": [
    "# Verificação final\n",
    "assert alice_shared == bob_shared\n",
    "print(\"✅ Segredo compartilhado com sucesso! Valor:\", alice_shared)"
   ]
  },
  {
   "cell_type": "code",
   "execution_count": null,
   "metadata": {},
   "outputs": [],
   "source": []
  }
 ],
 "metadata": {
  "kernelspec": {
   "display_name": "Python 3 (ipykernel)",
   "language": "python",
   "name": "python3"
  },
  "language_info": {
   "codemirror_mode": {
    "name": "ipython",
    "version": 3
   },
   "file_extension": ".py",
   "mimetype": "text/x-python",
   "name": "python",
   "nbconvert_exporter": "python",
   "pygments_lexer": "ipython3",
   "version": "3.13.5"
  }
 },
 "nbformat": 4,
 "nbformat_minor": 4
}
